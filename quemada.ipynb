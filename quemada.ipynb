{
  "nbformat": 4,
  "nbformat_minor": 0,
  "metadata": {
    "colab": {
      "provenance": [],
      "authorship_tag": "ABX9TyPUSU4B9WUbwGPZ7DjI4dCJ",
      "include_colab_link": true
    },
    "kernelspec": {
      "name": "python3",
      "display_name": "Python 3"
    },
    "language_info": {
      "name": "python"
    }
  },
  "cells": [
    {
      "cell_type": "markdown",
      "metadata": {
        "id": "view-in-github",
        "colab_type": "text"
      },
      "source": [
        "<a href=\"https://colab.research.google.com/github/QuemadaJohn/CSST101-3B-AY2526/blob/main/quemada.ipynb\" target=\"_parent\"><img src=\"https://colab.research.google.com/assets/colab-badge.svg\" alt=\"Open In Colab\"/></a>"
      ]
    },
    {
      "cell_type": "code",
      "execution_count": 4,
      "metadata": {
        "colab": {
          "base_uri": "https://localhost:8080/",
          "height": 356
        },
        "id": "sHdwjXhV5KLV",
        "outputId": "25089d95-4ddb-4d16-850b-798c3a09d028"
      },
      "outputs": [
        {
          "output_type": "stream",
          "name": "stdout",
          "text": [
            "--- University Logic Rules System ---\n"
          ]
        },
        {
          "output_type": "error",
          "ename": "KeyboardInterrupt",
          "evalue": "Interrupted by user",
          "traceback": [
            "\u001b[0;31m---------------------------------------------------------------------------\u001b[0m",
            "\u001b[0;31mKeyboardInterrupt\u001b[0m                         Traceback (most recent call last)",
            "\u001b[0;32m/tmp/ipython-input-2251514364.py\u001b[0m in \u001b[0;36m<cell line: 0>\u001b[0;34m()\u001b[0m\n\u001b[1;32m    122\u001b[0m       \u001b[0mwriter\u001b[0m \u001b[0;34m=\u001b[0m \u001b[0mcsv\u001b[0m\u001b[0;34m.\u001b[0m\u001b[0mwriter\u001b[0m\u001b[0;34m(\u001b[0m\u001b[0mfile\u001b[0m\u001b[0;34m)\u001b[0m\u001b[0;34m\u001b[0m\u001b[0;34m\u001b[0m\u001b[0m\n\u001b[1;32m    123\u001b[0m       \u001b[0mwriter\u001b[0m\u001b[0;34m.\u001b[0m\u001b[0mwriterow\u001b[0m\u001b[0;34m(\u001b[0m\u001b[0;34m[\u001b[0m\u001b[0;34m\"Timestamp\"\u001b[0m\u001b[0;34m,\u001b[0m \u001b[0;34m\"Student Name\"\u001b[0m\u001b[0;34m,\u001b[0m \u001b[0;34m\"Rule\"\u001b[0m\u001b[0;34m,\u001b[0m \u001b[0;34m\"Outcome\"\u001b[0m\u001b[0;34m]\u001b[0m\u001b[0;34m)\u001b[0m\u001b[0;34m\u001b[0m\u001b[0;34m\u001b[0m\u001b[0m\n\u001b[0;32m--> 124\u001b[0;31m     \u001b[0mmain\u001b[0m\u001b[0;34m(\u001b[0m\u001b[0;34m)\u001b[0m\u001b[0;34m\u001b[0m\u001b[0;34m\u001b[0m\u001b[0m\n\u001b[0m",
            "\u001b[0;32m/tmp/ipython-input-2251514364.py\u001b[0m in \u001b[0;36mmain\u001b[0;34m()\u001b[0m\n\u001b[1;32m     88\u001b[0m \u001b[0;32mdef\u001b[0m \u001b[0mmain\u001b[0m\u001b[0;34m(\u001b[0m\u001b[0;34m)\u001b[0m\u001b[0;34m:\u001b[0m\u001b[0;34m\u001b[0m\u001b[0;34m\u001b[0m\u001b[0m\n\u001b[1;32m     89\u001b[0m   \u001b[0mprint\u001b[0m\u001b[0;34m(\u001b[0m\u001b[0;34m\"--- University Logic Rules System ---\"\u001b[0m\u001b[0;34m)\u001b[0m\u001b[0;34m\u001b[0m\u001b[0;34m\u001b[0m\u001b[0m\n\u001b[0;32m---> 90\u001b[0;31m   \u001b[0mstudent_name\u001b[0m \u001b[0;34m=\u001b[0m \u001b[0minput\u001b[0m\u001b[0;34m(\u001b[0m\u001b[0;34m\"Enter student name: \"\u001b[0m\u001b[0;34m)\u001b[0m\u001b[0;34m.\u001b[0m\u001b[0mstrip\u001b[0m\u001b[0;34m(\u001b[0m\u001b[0;34m)\u001b[0m\u001b[0;34m\u001b[0m\u001b[0;34m\u001b[0m\u001b[0m\n\u001b[0m\u001b[1;32m     91\u001b[0m \u001b[0;34m\u001b[0m\u001b[0m\n\u001b[1;32m     92\u001b[0m   \u001b[0;32mwhile\u001b[0m \u001b[0;32mTrue\u001b[0m\u001b[0;34m:\u001b[0m\u001b[0;34m\u001b[0m\u001b[0;34m\u001b[0m\u001b[0m\n",
            "\u001b[0;32m/usr/local/lib/python3.12/dist-packages/ipykernel/kernelbase.py\u001b[0m in \u001b[0;36mraw_input\u001b[0;34m(self, prompt)\u001b[0m\n\u001b[1;32m   1175\u001b[0m                 \u001b[0;34m\"raw_input was called, but this frontend does not support input requests.\"\u001b[0m\u001b[0;34m\u001b[0m\u001b[0;34m\u001b[0m\u001b[0m\n\u001b[1;32m   1176\u001b[0m             )\n\u001b[0;32m-> 1177\u001b[0;31m         return self._input_request(\n\u001b[0m\u001b[1;32m   1178\u001b[0m             \u001b[0mstr\u001b[0m\u001b[0;34m(\u001b[0m\u001b[0mprompt\u001b[0m\u001b[0;34m)\u001b[0m\u001b[0;34m,\u001b[0m\u001b[0;34m\u001b[0m\u001b[0;34m\u001b[0m\u001b[0m\n\u001b[1;32m   1179\u001b[0m             \u001b[0mself\u001b[0m\u001b[0;34m.\u001b[0m\u001b[0m_parent_ident\u001b[0m\u001b[0;34m[\u001b[0m\u001b[0;34m\"shell\"\u001b[0m\u001b[0;34m]\u001b[0m\u001b[0;34m,\u001b[0m\u001b[0;34m\u001b[0m\u001b[0;34m\u001b[0m\u001b[0m\n",
            "\u001b[0;32m/usr/local/lib/python3.12/dist-packages/ipykernel/kernelbase.py\u001b[0m in \u001b[0;36m_input_request\u001b[0;34m(self, prompt, ident, parent, password)\u001b[0m\n\u001b[1;32m   1217\u001b[0m             \u001b[0;32mexcept\u001b[0m \u001b[0mKeyboardInterrupt\u001b[0m\u001b[0;34m:\u001b[0m\u001b[0;34m\u001b[0m\u001b[0;34m\u001b[0m\u001b[0m\n\u001b[1;32m   1218\u001b[0m                 \u001b[0;31m# re-raise KeyboardInterrupt, to truncate traceback\u001b[0m\u001b[0;34m\u001b[0m\u001b[0;34m\u001b[0m\u001b[0m\n\u001b[0;32m-> 1219\u001b[0;31m                 \u001b[0;32mraise\u001b[0m \u001b[0mKeyboardInterrupt\u001b[0m\u001b[0;34m(\u001b[0m\u001b[0;34m\"Interrupted by user\"\u001b[0m\u001b[0;34m)\u001b[0m \u001b[0;32mfrom\u001b[0m \u001b[0;32mNone\u001b[0m\u001b[0;34m\u001b[0m\u001b[0;34m\u001b[0m\u001b[0m\n\u001b[0m\u001b[1;32m   1220\u001b[0m             \u001b[0;32mexcept\u001b[0m \u001b[0mException\u001b[0m\u001b[0;34m:\u001b[0m\u001b[0;34m\u001b[0m\u001b[0;34m\u001b[0m\u001b[0m\n\u001b[1;32m   1221\u001b[0m                 \u001b[0mself\u001b[0m\u001b[0;34m.\u001b[0m\u001b[0mlog\u001b[0m\u001b[0;34m.\u001b[0m\u001b[0mwarning\u001b[0m\u001b[0;34m(\u001b[0m\u001b[0;34m\"Invalid Message:\"\u001b[0m\u001b[0;34m,\u001b[0m \u001b[0mexc_info\u001b[0m\u001b[0;34m=\u001b[0m\u001b[0;32mTrue\u001b[0m\u001b[0;34m)\u001b[0m\u001b[0;34m\u001b[0m\u001b[0;34m\u001b[0m\u001b[0m\n",
            "\u001b[0;31mKeyboardInterrupt\u001b[0m: Interrupted by user"
          ]
        }
      ],
      "source": [
        "import csv\n",
        "from datetime import datetime\n",
        "\n",
        "\n",
        "def impl(P, Q):\n",
        "    return (not P) or Q\n",
        "\n",
        "def tf(b: bool) -> str:\n",
        "    return \"T\" if b else \"F\"\n",
        "\n",
        "\n",
        "def log_result(student_name, rule_name, result):\n",
        "    with open(\"logic_results.csv\", \"a\", newline=\"\") as file:\n",
        "        writer = csv.writer(file)\n",
        "        writer.writerow([datetime.now().strftime(\"%Y-%m-%d %H:%M:%S\"),\n",
        "                         student_name, rule_name, result])\n",
        "\n",
        "\n",
        "def attendance_rule(student_name):\n",
        "    print(\"\\n--- Attendance Rule Checker ---\")\n",
        "    late = input(\"Is the student late? (T/F): \").strip().upper() == \"T\"\n",
        "    excuse = input(\"Did the student bring an excuse letter? (T/F):\").strip().upper() == \"T\"\n",
        "\n",
        "    result = impl(late, excuse)\n",
        "    outcome = \"Satisfied ✔️\" if result else \"Violated ❌\"\n",
        "\n",
        "    print(f\"P = {tf(late)} (Late), Q = {tf(excuse)} (Excuse Letter)\")\n",
        "    print(\"Result:\", outcome)\n",
        "\n",
        "    log_result(student_name, \"Attendance Rule\", outcome)\n",
        "\n",
        "\n",
        "\n",
        "def grading_rule(student_name):\n",
        "    print(\"\\n--- Grading Rule Checker ---\")\n",
        "    try:\n",
        "        grade = float(input(\"Enter student grade: \"))\n",
        "    except ValueError:\n",
        "        print(\"Invalid grade input.\")\n",
        "        return\n",
        "\n",
        "    P = grade >= 75\n",
        "    Q = grade >= 75\n",
        "    result = impl(P, Q)\n",
        "    outcome = \"Satisfied ✔️\" if result else \"Violated ❌\"\n",
        "\n",
        "    print(f\" {tf(P)} (grade ≥ 75), Q = {tf(Q)} (student passes)\")\n",
        "    print(\"Result:\", outcome)\n",
        "\n",
        "    log_result(student_name, \"Grading Rule\", outcome)\n",
        "\n",
        "\n",
        "\n",
        "def login_rule(student_name):\n",
        "    print(\"\\n--- Login Rule Checker ---\")\n",
        "    correct_password = \"admin123\"\n",
        "    attempt = input(\"Enter password: \")\n",
        "\n",
        "    P = (attempt == correct_password)  # Password correct?\n",
        "    result = impl(P, Q)\n",
        "    outcome = \"Access granted ✔️\" if result else \"Access denied ❌\"\n",
        "\n",
        "    print(f\"P = {tf(P)} (Password Correct), Q = {tf(Q)} (Access Granted)\")\n",
        "    print(\"Result:\", outcome)\n",
        "\n",
        "    log_result(student_name, \"Login Rule\", outcome)\n",
        "\n",
        "\n",
        "\n",
        "def bonus_rule(student_name):\n",
        "    print(f\"\\n--- {student_name}'s Bonus Point Eligibility Checker ---\")\n",
        "    try:\n",
        "        regular = input(\"Does the student have regular attendance? (T/F): \").strip().upper() == \"T\"\n",
        "    except (KeyboardInterrupt, EOFError):\n",
        "        return\n",
        "\n",
        "    bonus = \"regular is eligible\" if regular else \"Violated\"\n",
        "    result = impl(regular, bonus)\n",
        "    outcome = \"Satisfied ✅\" if result else \"Violated ❌\"\n",
        "\n",
        "    print(f\"P = {tf(regular)} (Regular Attendance), Q = {tf(bonus)} (Bonus Eligible)\")\n",
        "    print(\"Result:\", outcome)\n",
        "\n",
        "    log_result(student_name, \"Bonus Rule\", outcome)\n",
        "\n",
        "\n",
        "def libraryborrow_rule(student_name):\n",
        "    print(\"\\n--- LibraryBorrow Rule Checker ---\")\n",
        "    borrow = input(\"Is the student borrowing a book? (T/F): \").strip().upper() == \"T\"\n",
        "    id = input(\"Did the student bring an id? (T/F):\").strip().upper() == \"T\"\n",
        "\n",
        "    result = impl(borrow, id)\n",
        "    outcome = \"Satisfied ✔️\" if result else \"Violated ❌\"\n",
        "\n",
        "    print(f\"P = {tf(borrow)} (valid id), Q = {tf(id)} (Student Access)\")\n",
        "    print(\"Result:\", outcome)\n",
        "\n",
        "    log_result(student_name, \"LibraryBorrow_Rule\", outcome)\n",
        "\n",
        "\n",
        "def main():\n",
        "    print(\"--- University Logic Rules System ---\")\n",
        "    student_name = input(\"Enter student name: \").strip()\n",
        "\n",
        "    while True:\n",
        "        print(\"\\n\\n======== Main Menu ========\")\n",
        "        print(\"1) Attendance Rule Checker\")\n",
        "        print(\"2) Grading Rule Checker\")\n",
        "        print(\"3) Login Rule Checker\")\n",
        "        print(\"4) Bonus Points Checker\")\n",
        "        print(\"5) Library Borrowing Checker\")\n",
        "        print(\"6) Exit\")\n",
        "\n",
        "        choice = input(\"Choose an option (1-6): \").strip()\n",
        "\n",
        "        if choice == \"1\":\n",
        "            attendance_rule(student_name)\n",
        "        elif choice == \"2\":\n",
        "            grading_rule(student_name)\n",
        "        elif choice == \"3\":\n",
        "            login_rule(student_name)\n",
        "        elif choice == \"4\":\n",
        "            bonus_rule(student_name)\n",
        "        elif choice == \"5\":\n",
        "            libraryborrow_rule(student_name)\n",
        "        elif choice == \"6\":\n",
        "            print(\"Exiting...\")\n",
        "            print(\"Results saved to logic_results.csv\")\n",
        "            break\n",
        "        else:\n",
        "            print(\"Invalid choice. Try again.\")\n",
        "\n",
        "\n",
        "if __name__ == \"__main__\":\n",
        "    # Create CSV with headers if not exists\n",
        "    with open(\"logic_results.csv\", \"a+\", newline=\"\") as file:\n",
        "        file.seek(0, 2)\n",
        "        if file.tell() == 0:\n",
        "            writer = csv.writer(file)\n",
        "            writer.writerow([\"Timestamp\", \"Student Name\", \"Rule\", \"Outcome\"])\n",
        "        main()\n",
        "\n"
      ]
    },
    {
      "cell_type": "code",
      "source": [],
      "metadata": {
        "id": "ffQQoBWT6VFZ"
      },
      "execution_count": null,
      "outputs": []
    },
    {
      "cell_type": "code",
      "source": [],
      "metadata": {
        "id": "4JjWIJCm5LYK"
      },
      "execution_count": null,
      "outputs": []
    }
  ]
}