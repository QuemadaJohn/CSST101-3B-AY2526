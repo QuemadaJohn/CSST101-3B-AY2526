{
  "nbformat": 4,
  "nbformat_minor": 0,
  "metadata": {
    "colab": {
      "provenance": [],
      "include_colab_link": true
    },
    "kernelspec": {
      "name": "python3",
      "display_name": "Python 3"
    },
    "language_info": {
      "name": "python"
    }
  },
  "cells": [
    {
      "cell_type": "markdown",
      "metadata": {
        "id": "view-in-github",
        "colab_type": "text"
      },
      "source": [
        "<a href=\"https://colab.research.google.com/github/QuemadaJohn/CSST101-3B-AY2526/blob/main/CSST101-MP1-Colab.ipynb\" target=\"_parent\"><img src=\"https://colab.research.google.com/assets/colab-badge.svg\" alt=\"Open In Colab\"/></a>"
      ]
    },
    {
      "cell_type": "markdown",
      "source": [
        "Imports"
      ],
      "metadata": {
        "id": "2RR43b7X6L04"
      }
    },
    {
      "cell_type": "code",
      "execution_count": null,
      "metadata": {
        "id": "KfX9Kfwt2c92"
      },
      "outputs": [],
      "source": [
        "import csv\n",
        "from datetime import datetime"
      ]
    },
    {
      "cell_type": "markdown",
      "source": [
        "Logic Functions"
      ],
      "metadata": {
        "id": "3Fmn0-ik42BH"
      }
    },
    {
      "cell_type": "code",
      "source": [
        "def impl(p, q):\n",
        "  return (not p) or q # Implication (P -> Q)\n",
        "def tf(b: bool) -> str:\n",
        "  return \"T\" if b else \"F\""
      ],
      "metadata": {
        "id": "54iOn9WV3-kz"
      },
      "execution_count": null,
      "outputs": []
    },
    {
      "cell_type": "markdown",
      "source": [
        "Logger"
      ],
      "metadata": {
        "id": "KsHIpmEU461W"
      }
    },
    {
      "cell_type": "code",
      "source": [
        "def log_result(student_name, rule_name, result):\n",
        "  with open(\"logic_results.csv\", \"a\", newline=\"\", encoding=\"utf-8\") as file:\n",
        "    writer = csv.writer(file)\n",
        "    writer.writerow([datetime.now().strftime(\"%Y-%m-%d %H:%M:%S\"),\n",
        "    student_name, rule_name, result])"
      ],
      "metadata": {
        "id": "2twpAmKk471m"
      },
      "execution_count": null,
      "outputs": []
    },
    {
      "cell_type": "markdown",
      "source": [
        "Rule 1: Attendance"
      ],
      "metadata": {
        "id": "gQzBhTdt5OLe"
      }
    },
    {
      "cell_type": "code",
      "source": [
        "def attendance_rule(student_name):\n",
        "  print(\"\\n--- Attendance Rule Checker ---\")\n",
        "  late = input(\"Is the student late? (T/F): \").strip().upper() == \"T\"\n",
        "  excuse = input(\"Did the student bring an excuse letter? (T/F): \").strip().upper() == \"T\"\n",
        "  result = impl(late, excuse)\n",
        "  outcome = \"Satisfied ✅\" if result else \"Violated ❌\"\n",
        "  print(f\"P = ({tf(late)}) (Late), Q = ({tf(excuse)}) (Excuse Letter)\")\n",
        "  print(\"Result:\", outcome)\n",
        "  log_result(student_name, \"Attendance Rule\", outcome)"
      ],
      "metadata": {
        "id": "o45_VfeX5Oq_"
      },
      "execution_count": null,
      "outputs": []
    },
    {
      "cell_type": "markdown",
      "source": [
        "Rule 2: Grading"
      ],
      "metadata": {
        "id": "JJ9vXH7C5Yr2"
      }
    },
    {
      "cell_type": "code",
      "source": [
        "def grading_rule(student_name):\n",
        "  print(\"\\n--- Grading Rule Checker ---\")\n",
        "  try:\n",
        "    grade = float(input(\"Enter student grade: \"))\n",
        "  except ValueError:\n",
        "    print(\"Invalid grade input.\")\n",
        "    return # Added return here to exit if invalid input\n",
        "  P = grade <= 75 # Student has passing grade\n",
        "  Q = grade >= 75 # Student passes (same condition, logically OK but redundant)\n",
        "  result = impl(P, Q)\n",
        "  outcome = \"Satisfied ✅\" if result else \"Violated ❌\"\n",
        "  print(f\"P = ({tf(P)}) (grade ≥ 75), Q = ({tf(Q)}) (student passes)\")\n",
        "  print(\"Result:\", outcome)\n",
        "  log_result(student_name, \"Grading Rule\", outcome)"
      ],
      "metadata": {
        "id": "210tx1WY5YM-"
      },
      "execution_count": null,
      "outputs": []
    },
    {
      "cell_type": "markdown",
      "source": [
        "Rule 3: Login System"
      ],
      "metadata": {
        "id": "B1kkiAjT5hr_"
      }
    },
    {
      "cell_type": "code",
      "source": [
        "def login_rule(student_name):\n",
        "  print(\"\\n--- Login Rule Checker ---\")\n",
        "  correct_password = \"admin123\"\n",
        "  attempt = input(\"Enter password: \")\n",
        "  P = (attempt == correct_password) # Correct password\n",
        "  Q = P # Access granted if password correct (same condition)\n",
        "  result = impl(P, Q)\n",
        "  outcome = \"Access granted ✅\" if result else \"Access denied ❌\"\n",
        "  print(f\"P = ({tf(P)}) (Password Correct), Q = ({tf(Q)}) (Access Granted)\")\n",
        "  print(\"Result:\", outcome)\n",
        "  log_result(student_name, \"Login Rule\", outcome)"
      ],
      "metadata": {
        "id": "yu6dqQsF5iD-"
      },
      "execution_count": null,
      "outputs": []
    },
    {
      "cell_type": "markdown",
      "source": [
        "Rule 4: Bonus Points"
      ],
      "metadata": {
        "id": "Ch83zI7n5ns2"
      }
    },
    {
      "cell_type": "code",
      "source": [
        "# ---------- Rule 4: Bonus Points ----------\n",
        "def bonus_rule(student_name):\n",
        "  print(\"\\n--- Bonus Points Eligibility Checker ---\")\n",
        "  regular = input(\"Does the student have regular attendance? (T/F): \").strip().upper() == \"T\"\n",
        "  bonus = input(\"Is the student eligible for bonus points? (T/F): \").strip().upper() == \"T\"\n",
        "  result = impl(regular, bonus)\n",
        "  outcome = \"Satisfied ✅\" if result else \"Violated ❌\"\n",
        "  print(f\"P = ({tf(regular)}) (Regular Attendance), Q = ({tf(bonus)}) (Bonus Eligible)\")\n",
        "  print(\"Result:\", outcome)\n",
        "  log_result(student_name, \"Bonus Rule\", outcome)"
      ],
      "metadata": {
        "id": "wKQm5oDa5oCe"
      },
      "execution_count": null,
      "outputs": []
    },
    {
      "cell_type": "markdown",
      "source": [
        "Rule 5: Library Borrowing"
      ],
      "metadata": {
        "id": "DCd12_Ea5vcn"
      }
    },
    {
      "cell_type": "code",
      "source": [
        "def library_rule(student_name):\n",
        "  print(\"\\n--- Library Borrowing Rule Checker ---\")\n",
        "  borrowed = input(\"Has the student borrowed a book? (T/F): \").strip().upper() == \"T\"\n",
        "  returned = input(\"Has the student returned the book? (T/F): \").strip().upper() == \"T\"\n",
        "  result = impl(borrowed, returned)\n",
        "  outcome = \"Satisfied ✅\" if result else \"Violated ❌\"\n",
        "  print(f\"P = ({tf(borrowed)}) (Borrowed), Q = ({tf(returned)}) (Returned)\")\n",
        "  print(\"Result:\", outcome)\n",
        "  log_result(student_name, \"Library Rule\", outcome)"
      ],
      "metadata": {
        "id": "F5Oi1Ru-5vu3"
      },
      "execution_count": null,
      "outputs": []
    },
    {
      "cell_type": "markdown",
      "source": [
        "Main"
      ],
      "metadata": {
        "id": "0LNvhZ1453B_"
      }
    },
    {
      "cell_type": "code",
      "source": [
        "def main():\n",
        "  print(\"=== University Logic Rules System ===\")\n",
        "  student_name = input(\"Enter student name: \").strip()\n",
        "  while True:\n",
        "    print(\"\\n================================\")\n",
        "    print(\" Main Menu\")\n",
        "    print(\"================================\")\n",
        "    print(\"1) Attendance Rule Checker\")\n",
        "    print(\"2) Grading Rule Checker\")\n",
        "    print(\"3) Login Rule Checker\")\n",
        "    print(\"4) Bonus Points Checker\")\n",
        "    print(\"5) Library Borrowing Rule Checker\")\n",
        "    print(\"6) Exit\")\n",
        "    choice = input(\"Choose an option (1-5): \").strip()\n",
        "    if choice == \"1\":\n",
        "      attendance_rule(student_name)\n",
        "    elif choice == \"2\":\n",
        "      grading_rule(student_name)\n",
        "    elif choice == \"3\":\n",
        "      login_rule(student_name)\n",
        "    elif choice == \"4\":\n",
        "      bonus_rule(student_name)\n",
        "    elif choice == \"5\":\n",
        "      library_rule(student_name)\n",
        "    elif choice == \"6\":\n",
        "      print(\"Exiting... Results saved to logic_results.csv\")\n",
        "      break\n",
        "    else:\n",
        "      print(\"Invalid choice. Try again. Please select 1-5.\")\n",
        "if __name__ == \"__main__\":\n",
        "  # Create CSV with headers if not exists\n",
        "  with open(\"logic_results.csv\", \"a\", newline=\"\", encoding=\"utf-8\") as file:\n",
        "    writer = csv.writer(file)\n",
        "    if file.tell() == 0: # only write header if file is empty\n",
        "      writer.writerow([\"Timestamp\", \"Student Name\", \"Rule\", \"Result\"])\n",
        "  # Run the program\n",
        "  main()"
      ],
      "metadata": {
        "id": "wOEDeXcq53bg"
      },
      "execution_count": null,
      "outputs": []
    }
  ]
}